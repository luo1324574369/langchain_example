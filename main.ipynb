{
 "cells": [
  {
   "cell_type": "code",
   "execution_count": null,
   "metadata": {},
   "outputs": [],
   "source": [
    "pip install langchain"
   ]
  },
  {
   "cell_type": "code",
   "execution_count": null,
   "metadata": {},
   "outputs": [],
   "source": [
    "pip install -qU langchain-openai"
   ]
  },
  {
   "cell_type": "code",
   "execution_count": null,
   "metadata": {},
   "outputs": [],
   "source": [
    "import os\n",
    "\n",
    "# os.environ[\"OPENAI_API_KEY\"] = \"\"\n",
    "\n",
    "from langchain_openai import ChatOpenAI\n",
    "\n",
    "model = ChatOpenAI(model=\"gpt-3.5-turbo\",openai_api_base=\"xxx\")"
   ]
  },
  {
   "cell_type": "code",
   "execution_count": null,
   "metadata": {},
   "outputs": [],
   "source": [
    "from langchain_core.messages import HumanMessage\n",
    "\n",
    "response = model.invoke([HumanMessage(content=\"你好\")])\n",
    "\n",
    "response.content"
   ]
  },
  {
   "cell_type": "code",
   "execution_count": null,
   "metadata": {},
   "outputs": [],
   "source": [
    "# 没有 history memory\n",
    "\n",
    "from langchain_core.messages import HumanMessage\n",
    "\n",
    "question_1 = \"你好，我叫小明\"\n",
    "result_1 = model.invoke([HumanMessage(content=f\"{question_1}\")])\n",
    "print(result_1.content)\n",
    "\n",
    "question_2 = \"我叫什么名字\"\n",
    "result_2 = model.invoke([HumanMessage(content=f\"{question_2}\")])\n",
    "print(result_2.content)"
   ]
  },
  {
   "cell_type": "code",
   "execution_count": null,
   "metadata": {},
   "outputs": [],
   "source": [
    "# 简单实现 history memory\n",
    "\n",
    "from langchain_core.messages import HumanMessage\n",
    "\n",
    "store = []\n",
    "\n",
    "question_1 = \"你好，我叫小明\"\n",
    "result_1 = model.invoke([HumanMessage(content=f\"{question_1}\")])\n",
    "print(result_1.content)\n",
    "\n",
    "store.append({\"human\": question_1, \"ai\": result_1.content})\n",
    "\n",
    "question_2 = \"我叫什么名字\"\n",
    "result_2 = model.invoke([HumanMessage(content=f\"history: {store} {question_2} \")])\n",
    "print(result_2.content)"
   ]
  },
  {
   "cell_type": "code",
   "execution_count": null,
   "metadata": {},
   "outputs": [],
   "source": [
    "pip install langchain_community"
   ]
  },
  {
   "cell_type": "code",
   "execution_count": null,
   "metadata": {},
   "outputs": [],
   "source": [
    "# 使用官方模块实现\n",
    "\n",
    "from langchain_community.chat_message_histories import ChatMessageHistory\n",
    "from langchain_core.chat_history import BaseChatMessageHistory\n",
    "from langchain_core.runnables.history import RunnableWithMessageHistory\n",
    "\n",
    "store = {}\n",
    "\n",
    "def get_session_history(session_id: str) -> BaseChatMessageHistory:\n",
    "    if session_id not in store:\n",
    "        store[session_id] = ChatMessageHistory()\n",
    "    return store[session_id]\n",
    "\n",
    "\n",
    "with_message_history = RunnableWithMessageHistory(model, get_session_history)\n",
    "\n",
    "config = {\"configurable\": {\"session_id\": \"abc2\"}}\n",
    "\n",
    "question_1 = \"你好，我叫小明\"\n",
    "result_1 = with_message_history.invoke([HumanMessage(content=f\"{question_1}\")],config=config)\n",
    "print(result_1.content)\n",
    "\n",
    "question_2 = \"我叫什么名字\"\n",
    "result_2 = with_message_history.invoke([HumanMessage(content=f\"{question_2}\")],config=config)\n",
    "print(result_2.content)"
   ]
  },
  {
   "cell_type": "code",
   "execution_count": null,
   "metadata": {},
   "outputs": [],
   "source": [
    "# 加入prompt\n",
    "\n",
    "from langchain_community.chat_message_histories import ChatMessageHistory\n",
    "from langchain_core.chat_history import BaseChatMessageHistory\n",
    "from langchain_core.runnables.history import RunnableWithMessageHistory\n",
    "from langchain_core.prompts import ChatPromptTemplate, MessagesPlaceholder\n",
    "\n",
    "store = {}\n",
    "\n",
    "def get_session_history(session_id: str) -> BaseChatMessageHistory:\n",
    "    if session_id not in store:\n",
    "        store[session_id] = ChatMessageHistory()\n",
    "    return store[session_id]\n",
    "\n",
    "prompt = ChatPromptTemplate.from_messages(\n",
    "    [\n",
    "        (\n",
    "            \"system\",\n",
    "            \"在每一句话结尾都加上 回复完毕\",\n",
    "        ),\n",
    "        MessagesPlaceholder(variable_name=\"messages\"),\n",
    "    ]\n",
    ")\n",
    "\n",
    "chain = prompt | model\n",
    "\n",
    "with_message_history = RunnableWithMessageHistory(chain, get_session_history)\n",
    "\n",
    "config = {\"configurable\": {\"session_id\": \"abc2\"}}\n",
    "\n",
    "question_1 = \"你好，我叫小明\"\n",
    "result_1 = with_message_history.invoke([HumanMessage(content=f\"{question_1}\")],config=config)\n",
    "print(result_1.content)\n",
    "\n",
    "question_2 = \"我叫什么名字\"\n",
    "result_2 = with_message_history.invoke([HumanMessage(content=f\"{question_2}\")],config=config)\n",
    "print(result_2.content)"
   ]
  },
  {
   "cell_type": "code",
   "execution_count": null,
   "metadata": {},
   "outputs": [],
   "source": [
    "# 减少历史条数\n",
    "\n",
    "from langchain_community.chat_message_histories import ChatMessageHistory\n",
    "from langchain_core.chat_history import BaseChatMessageHistory\n",
    "from langchain_core.runnables.history import RunnableWithMessageHistory\n",
    "from langchain_core.prompts import ChatPromptTemplate, MessagesPlaceholder\n",
    "from langchain_core.runnables import RunnablePassthrough\n",
    "\n",
    "store = {}\n",
    "\n",
    "def get_session_history(session_id: str) -> BaseChatMessageHistory:\n",
    "    if session_id not in store:\n",
    "        store[session_id] = ChatMessageHistory()\n",
    "    return store[session_id]\n",
    "\n",
    "prompt = ChatPromptTemplate.from_messages(\n",
    "    [\n",
    "        (\n",
    "            \"system\",\n",
    "            \"在每一句话结尾都加上 回复完毕\",\n",
    "        ),\n",
    "        MessagesPlaceholder(variable_name=\"messages\"),\n",
    "    ]\n",
    ")\n",
    "\n",
    "def filter_messages(messages, k=10):\n",
    "    return messages[-k:]\n",
    "\n",
    "chain = (\n",
    "    RunnablePassthrough.assign(messages=lambda x: filter_messages(x[\"messages\"]))\n",
    "    | prompt\n",
    "    | model\n",
    ")\n",
    "\n",
    "with_message_history = RunnableWithMessageHistory(chain, get_session_history)\n",
    "\n",
    "config = {\"configurable\": {\"session_id\": \"abc2\"}}\n",
    "\n",
    "question_1 = \"你好，我叫小明\"\n",
    "result_1 = with_message_history.invoke({\"messages\":[HumanMessage(content=f\"{question_1}\")]},config=config)\n",
    "print(result_1.content)\n",
    "\n",
    "question_t = \"今天天气不错\"\n",
    "result_t = with_message_history.invoke({\"messages\":[HumanMessage(content=f\"{question_t}\")]},config=config)\n",
    "print(result_t.content)\n",
    "\n",
    "question_t = \"今天天气不错\"\n",
    "result_t = with_message_history.invoke({\"messages\":[HumanMessage(content=f\"{question_t}\")]},config=config)\n",
    "print(result_t.content)\n",
    "\n",
    "question_2 = \"我叫什么名字\"\n",
    "result_2 = with_message_history.invoke({\"messages\":[HumanMessage(content=f\"{question_2}\")]},config=config)\n",
    "print(result_2.content)"
   ]
  }
 ],
 "metadata": {
  "kernelspec": {
   "display_name": ".venv",
   "language": "python",
   "name": "python3"
  },
  "language_info": {
   "codemirror_mode": {
    "name": "ipython",
    "version": 3
   },
   "file_extension": ".py",
   "mimetype": "text/x-python",
   "name": "python",
   "nbconvert_exporter": "python",
   "pygments_lexer": "ipython3",
   "version": "3.12.3"
  }
 },
 "nbformat": 4,
 "nbformat_minor": 2
}
